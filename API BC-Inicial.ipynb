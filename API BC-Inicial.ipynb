{
 "cells": [
  {
   "cell_type": "markdown",
   "id": "3fb208cd",
   "metadata": {},
   "source": [
    "### API do Banco Central\n",
    "\n",
    "https://dadosabertos.bcb.gov.br/dataset?res_format=API"
   ]
  },
  {
   "cell_type": "code",
   "execution_count": 12,
   "id": "5719eabd",
   "metadata": {},
   "outputs": [],
   "source": []
  }
 ],
 "metadata": {
  "kernelspec": {
   "display_name": "Python 3 (ipykernel)",
   "language": "python",
   "name": "python3"
  },
  "language_info": {
   "codemirror_mode": {
    "name": "ipython",
    "version": 3
   },
   "file_extension": ".py",
   "mimetype": "text/x-python",
   "name": "python",
   "nbconvert_exporter": "python",
   "pygments_lexer": "ipython3",
   "version": "3.9.7"
  }
 },
 "nbformat": 4,
 "nbformat_minor": 5
}
